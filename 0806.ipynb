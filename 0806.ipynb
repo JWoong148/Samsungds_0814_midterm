{
 "cells": [
  {
   "cell_type": "code",
   "execution_count": null,
   "metadata": {},
   "outputs": [],
   "source": [
    "import os\n",
    "os.environ[\"CUDA_VISIBLE_DEVICES\"]=\"1\""
   ]
  },
  {
   "cell_type": "markdown",
   "metadata": {},
   "source": [
    "# Problem. \n",
    "Semantic segmentation에서는 여러가지 resolution의 feature map을 동시에 고려하는 것이 매우 중요합니다. 아래는 MobileNetV2 backbone architecture로부터 여러 종류의 feature map을 동시에 고려하는 segmentation 모델 함수입니다. 함수에 대한 자세한 설명은 아래에 있습니다. 모델 완성을 위해 코드의 “     ” 부분에 알맞은 변수명 혹은 숫자를 채워넣어주세요.\n",
    "\n",
    "- features 에는 64x64, 32x32, 16x16, 8x8, 4x4 resolution의 feature map들이 순서대로 들어가있습니다. 예를 들면, features[2] 는 16x16의 resolution을 가지는 feature map입니다.\n",
    "- 아래 함수에서는 16x16, 8x8, 4x4 feature map들을 고려합니다. 먼저 3가지 종류의 feature map들을 UpSampling2D 를 이용하여 16x16으로 만들어주고, Concatenate 를 이용하여 합쳐줍니다.\n",
    "- 그 후, convolutional network를 통과시킨 뒤, 마지막으로 128x128 크기의 output으로 만들어줍니다.\n",
    "- tf.keras.layers.UpSampling2D(size(?,?), interpolation='biliner'): bilinear operation 을 이용하여 주어진 input(CxHxW)을 H,W에 대하여 ?배 늘린 output을 생성합니다 (C x ?H x ?W)\n"
   ]
  },
  {
   "cell_type": "code",
   "execution_count": null,
   "metadata": {},
   "outputs": [],
   "source": [
    "def build_multires_model():\n",
    "    # 모델의 input shape을 결정합니다.\n",
    "    inputs = tf.keras.layers.Input(shape=[128, 128, 3])\n",
    "    \n",
    "    # backbone 모델로부터 feature map을 가져옵니다.\n",
    "    features = backbone_features(inputs)\n",
    "    \n",
    "    # 사용할 feature map을 여러개 고르고, 각 feature map을 같은 크기로 upsampling 해줍니다.\n",
    "    upsample1 = tf.keras.layers.UpSampling2D(size=(     ,     ), interpolation='bilinear')\n",
    "    x1 = upsample1(features[])\n",
    "    upsample2 = tf.keras.layers.UpSampling2D(size=(     ,     ), interpolation='bilinear')\n",
    "    x2 = upsample2(features[])\n",
    "    x3 = features[]\n",
    "    \n",
    "    # 같은 크기로 만들어진 feature map을 합쳐줍니다.\n",
    "    concat = tf.keras.layers.Concatenate(axis=-1)\n",
    "    x = concat([     ,     ,     ])\n",
    "    \n",
    "    # 해당 feature map을 기반으로 segmentation prediction mask를 만들어주는 CNN을 만들어줍니다.\n",
    "    convnet = tf.keras.Sequential(layers=[\n",
    "        tf.keras.layers.Conv2D(16, 3, padding='same'),\n",
    "        tf.keras.layers.BatchNormalization(),\n",
    "        tf.keras.layers.ReLU(),\n",
    "        tf.keras.layers.Conv2D(OUTPUT_CHANNELS, 3, padding='same'),\n",
    "    ])\n",
    "    x = convnet(x)\n",
    "    \n",
    "    # 출력값을 bilinear interpolation을 이용해서 128x128 크기로 만들어줍니다.\n",
    "    upsample = tf.keras.layers.UpSampling2D(size=(     ,     ), interpolation='bilinear')\n",
    "    x = upsample(x)\n",
    "    \n",
    "    # x를 최종 출력값으로 가지는 모델을 만들어줍니다.\n",
    "    return tf.keras.Model(inputs=inputs, outputs=x)\n"
   ]
  }
 ],
 "metadata": {
  "kernelspec": {
   "display_name": "Python 3",
   "language": "python",
   "name": "python3"
  },
  "language_info": {
   "codemirror_mode": {
    "name": "ipython",
    "version": 3
   },
   "file_extension": ".py",
   "mimetype": "text/x-python",
   "name": "python",
   "nbconvert_exporter": "python",
   "pygments_lexer": "ipython3",
   "version": "3.7.6"
  }
 },
 "nbformat": 4,
 "nbformat_minor": 4
}
