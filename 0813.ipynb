{
 "cells": [
  {
   "cell_type": "code",
   "execution_count": null,
   "metadata": {},
   "outputs": [],
   "source": [
    "import os\n",
    "os.environ[\"CUDA_VISIBLE_DEVICES\"]=\"1\""
   ]
  },
  {
   "cell_type": "markdown",
   "metadata": {},
   "source": [
    "# Problem \n",
    "The following code is the definition of depth-wise separable convolutions which consists of depth-wise convolution and point-wise convolution. Please write the blank of kernel_size to complete the definition. "
   ]
  },
  {
   "cell_type": "code",
   "execution_count": null,
   "metadata": {},
   "outputs": [],
   "source": [
    "def separable_conv(input, c_o, k_s, stride, scope):\n",
    "    with slim.arg_scope([slim.batch_norm],\n",
    "                        decay=0.999,\n",
    "                        fused=True,\n",
    "                        is_training=_trainable,\n",
    "                        activation_fn=tf.nn.relu6):\n",
    "        output = slim.separable_convolution2d(input,\n",
    "                                              num_outputs=None,\n",
    "                                              stride=stride,\n",
    "                                              trainable=_trainable,\n",
    "                                              depth_multiplier=1.0,\n",
    "                                              kernel_size=[],\n",
    "                                              weights_initializer=_init_xavier,\n",
    "                                              weights_regularizer=_l2_regularizer_00004,\n",
    "                                              biases_initializer=None,\n",
    "                                              scope=scope + '_depthwise')\n",
    "\n",
    "        output = slim.convolution2d(output,\n",
    "                                    c_o,\n",
    "                                    stride=1,\n",
    "                                    kernel_size=[],\n",
    "                                    weights_initializer=_init_xavier,\n",
    "                                    biases_initializer=_init_zero,\n",
    "                                    normalizer_fn=slim.batch_norm,\n",
    "                                    trainable=_trainable,\n",
    "                                    weights_regularizer=None,\n",
    "                                    scope=scope + '_pointwise')\n",
    "\n",
    "    return output\n"
   ]
  }
 ],
 "metadata": {
  "kernelspec": {
   "display_name": "Python 3",
   "language": "python",
   "name": "python3"
  },
  "language_info": {
   "codemirror_mode": {
    "name": "ipython",
    "version": 3
   },
   "file_extension": ".py",
   "mimetype": "text/x-python",
   "name": "python",
   "nbconvert_exporter": "python",
   "pygments_lexer": "ipython3",
   "version": "3.7.6"
  }
 },
 "nbformat": 4,
 "nbformat_minor": 4
}
