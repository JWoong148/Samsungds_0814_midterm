{
 "cells": [
  {
   "cell_type": "code",
   "execution_count": null,
   "metadata": {},
   "outputs": [],
   "source": [
    "import os\n",
    "os.environ[\"CUDA_VISIBLE_DEVICES\"]=\"1\""
   ]
  },
  {
   "cell_type": "markdown",
   "metadata": {},
   "source": [
    "### 실습문제\n",
    "Neural network를 학습할 때, 적절한 Learning Rate를 정해주어야 올바른 학습을 할 수 있습니다. Learning Rate가 크면 Osillation이 커져 최적의 값을 얻기 힘들고, Learning Rate가 작으면 학습 속도가 느려 수렴하기에 까지 많은 시간이 듭니다. 이런 점을 개선하기 위해 처음 학습시에는, Learning Rate를 크게 주어 학습 속도를 높이고, 학습이 진행 될수록 Learning Rate를 낮춰주는 Learning Rate Decay 방법을 사용합니다.  \n",
    "![WarmUp_LR](miscs/m0728/RegOptim_midterm_2.jpg)\n",
    "\n",
    "위의 설명을 토대로 **lr_decay** function을 구현하세요.\n",
    "(Learning rate graph 코드를 통해 주어진 그림과 같게 나오는지 확인해볼 수 있습니다)"
   ]
  },
  {
   "cell_type": "code",
   "execution_count": 1,
   "metadata": {},
   "outputs": [],
   "source": [
    "import matplotlib.pyplot as plt\n",
    "\n",
    "def lr_decay(init_lr, epoch, step):\n",
    "    #################\n",
    "    # TODO\n",
    "    #################\n",
    "    return current_lr\n"
   ]
  },
  {
   "cell_type": "markdown",
   "metadata": {},
   "source": [
    "#### Learning rate Graph\n"
   ]
  },
  {
   "cell_type": "code",
   "execution_count": 14,
   "metadata": {},
   "outputs": [
    {
     "data": {
      "image/png": "[encoded data removed]",
      "text/plain": [
       "<Figure size 432x288 with 1 Axes>"
      ]
     },
     "metadata": {
      "needs_background": "light"
     },
     "output_type": "display_data"
    }
   ],
   "source": [
    "init_lr = 0.8\n",
    "max_epoch = 100\n",
    "step = 30\n",
    "\n",
    "lr_list = []\n",
    "for epoch in range(max_epoch):\n",
    "    lr_list.append(lr_decay(init_lr, epoch, step))\n",
    "\n",
    "plt.plot(list(range(max_epoch)), lr_list)\n",
    "plt.show()"
   ]
  },
  {
   "cell_type": "markdown",
   "metadata": {},
   "source": [
    "## 그래프\n",
    "![WarmUp_LR](miscs/m0728/graph.png)"
   ]
  },
  {
   "cell_type": "code",
   "execution_count": null,
   "metadata": {},
   "outputs": [],
   "source": []
  }
 ],
 "metadata": {
  "kernelspec": {
   "display_name": "Python 3",
   "language": "python",
   "name": "python3"
  },
  "language_info": {
   "codemirror_mode": {
    "name": "ipython",
    "version": 3
   },
   "file_extension": ".py",
   "mimetype": "text/x-python",
   "name": "python",
   "nbconvert_exporter": "python",
   "pygments_lexer": "ipython3",
   "version": "3.7.6"
  }
 },
 "nbformat": 4,
 "nbformat_minor": 4
}
