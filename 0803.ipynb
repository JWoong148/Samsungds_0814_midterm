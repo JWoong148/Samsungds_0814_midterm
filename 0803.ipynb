{
 "cells": [
  {
   "cell_type": "code",
   "execution_count": null,
   "metadata": {},
   "outputs": [],
   "source": [
    "import os\n",
    "os.environ[\"CUDA_VISIBLE_DEVICES\"]=\"1\""
   ]
  },
  {
   "cell_type": "markdown",
   "metadata": {},
   "source": [
    "## Problem\n",
    "\n",
    "우리는 Deep generative models 중 하나인 VAE 의 목적함수(objective function)인 ELBO(Evidence Lower Bound)를 배웠습니다.\n",
    "ELBO를 구현하세요.\n",
    "\n",
    "단, VAE의 \n",
    "1. Decoder $p_\\theta(x|z)$ 는 factorized Bernoulli distribution\n",
    "2. Encoder $q_\\phi(z|x)$ 는 covariance가 diagonal matrix 인 Gaussian distribution \n",
    "\n",
    "임을 가정합니다.\n",
    "\n",
    "\n",
    "### Hint : \n",
    "\n",
    "- ELBO의 식을 잘 정리하면 reconstruction, regularization을 위한 두 term 의 합으로 이루어져 있다고 볼 수 있습니다.\n",
    "- 두 Gaussian distribution  $ p(x) = \\mathcal{N}(x|\\mu_1,\\sigma_1^2)$,   $ q(x) = \\mathcal{N}(x|\\mu_2,\\sigma_2^2)$ 의 KL divergence $KL(p||q)$ 는 다음과 같습니다.\n",
    "$$KL(p||q) = \\log{\\frac{\\sigma_2}{\\sigma_1}} + \\frac{\\sigma_1^2 + (\\mu_1 - \\mu_2)^2}{2\\sigma_2^2} - \\frac{1}{2}$$\n",
    "\n",
    "- 다음 함수들을 유용하게 사용하실 수 있습니다.\n",
    "\n",
    "B = tf.log(A)\n",
    "\n",
    "B = tf.reduce_sum(A, axis)\n",
    "\n",
    "B = tf.reduce_mean(A)\n",
    "\n",
    "B = tf.square(A)"
   ]
  },
  {
   "cell_type": "code",
   "execution_count": 1,
   "metadata": {},
   "outputs": [],
   "source": [
    "def calc_loss(x, x_hat, mean, sigma):\n",
    "    \"\"\"\n",
    "    This function builds the graph operations of loss function for training VAE.\n",
    "\n",
    "    Args:\n",
    "        x_hat : predictions of VAE (reconstructed image of inputs) \n",
    "                (batch_size x dim_input_image)\n",
    "        x     : input images \n",
    "                (batch_size x dim_input_image)\n",
    "        mean  : prediction of mean of the latent (Gaussian) distribution given input x\n",
    "                (batch_size x dim_latent_var)\n",
    "        sigma : standard deviation of the latent (Gaussian) distribution given input x \n",
    "                (batch_size x dim_latent_var)\n",
    "\n",
    "    Returns:\n",
    "        loss: negative value of ELBO \n",
    "    \"\"\"\n",
    "    # NOTE compute loss\n",
    "    recon = ??? \n",
    "    KL = ??? \n",
    "    \n",
    "    ELBO = ???\n",
    "    return -ELBO"
   ]
  }
 ],
 "metadata": {
  "kernelspec": {
   "display_name": "Python 3",
   "language": "python",
   "name": "python3"
  },
  "language_info": {
   "codemirror_mode": {
    "name": "ipython",
    "version": 3
   },
   "file_extension": ".py",
   "mimetype": "text/x-python",
   "name": "python",
   "nbconvert_exporter": "python",
   "pygments_lexer": "ipython3",
   "version": "3.7.6"
  }
 },
 "nbformat": 4,
 "nbformat_minor": 4
}
